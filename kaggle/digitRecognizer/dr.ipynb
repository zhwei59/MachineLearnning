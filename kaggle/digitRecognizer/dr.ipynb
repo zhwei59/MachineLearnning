{
 "cells": [
  {
   "cell_type": "code",
   "execution_count": 2,
   "metadata": {},
   "outputs": [],
   "source": [
    "%matplotlib inline\n",
    "import gc\n",
    "import matplotlib.pyplot as plt\n",
    "import seaborn as sns\n",
    "import numpy as np\n",
    "import pandas as pd\n",
    "import xgboost as xgb\n",
    "from sklearn.metrics import precision_recall_curve\n",
    "from sklearn.model_selection import train_test_split"
   ]
  },
  {
   "cell_type": "code",
   "execution_count": 31,
   "metadata": {},
   "outputs": [
    {
     "name": "stdout",
     "output_type": "stream",
     "text": [
      "Loading data ...\n",
      "Index([u'label', u'pixel12', u'pixel13', u'pixel14', u'pixel15', u'pixel32',\n",
      "       u'pixel33', u'pixel34', u'pixel35', u'pixel36',\n",
      "       ...\n",
      "       u'pixel770', u'pixel771', u'pixel772', u'pixel773', u'pixel774',\n",
      "       u'pixel775', u'pixel776', u'pixel777', u'pixel778', u'pixel779'],\n",
      "      dtype='object', length=709)\n",
      "Index([u'pixel33', u'pixel34', u'pixel35', u'pixel36', u'pixel37', u'pixel38',\n",
      "       u'pixel39', u'pixel40', u'pixel41', u'pixel42',\n",
      "       ...\n",
      "       u'pixel769', u'pixel770', u'pixel771', u'pixel772', u'pixel773',\n",
      "       u'pixel774', u'pixel775', u'pixel776', u'pixel777', u'pixel778'],\n",
      "      dtype='object', length=701)\n"
     ]
    }
   ],
   "source": [
    "print('Loading data ...')\n",
    "\n",
    "df = pd.read_csv(\"/Users/zhwei/share/lixianglan/gitrepo/kaggle/digitRecognizer/train.csv\")\n",
    "tdf=pd.read_csv(\"/Users/zhwei/share/lixianglan/gitrepo/kaggle/digitRecognizer/test.csv\")\n",
    "v_data=df.loc[:, (df != 0).any(axis=0)]\n",
    "t_data=tdf.loc[:, (tdf != 0).any(axis=0)]\n",
    "print v_data.columns\n",
    "print t_data.columns\n"
   ]
  },
  {
   "cell_type": "code",
   "execution_count": null,
   "metadata": {},
   "outputs": [],
   "source": [
    "# labelde \n",
    "data['label'].value_counts()"
   ]
  },
  {
   "cell_type": "code",
   "execution_count": null,
   "metadata": {},
   "outputs": [],
   "source": []
  },
  {
   "cell_type": "code",
   "execution_count": null,
   "metadata": {},
   "outputs": [],
   "source": []
  },
  {
   "cell_type": "code",
   "execution_count": null,
   "metadata": {},
   "outputs": [],
   "source": []
  }
 ],
 "metadata": {
  "kernelspec": {
   "display_name": "Python 2",
   "language": "python",
   "name": "python2"
  },
  "language_info": {
   "codemirror_mode": {
    "name": "ipython",
    "version": 2
   },
   "file_extension": ".py",
   "mimetype": "text/x-python",
   "name": "python",
   "nbconvert_exporter": "python",
   "pygments_lexer": "ipython2",
   "version": "2.7.10"
  }
 },
 "nbformat": 4,
 "nbformat_minor": 2
}
